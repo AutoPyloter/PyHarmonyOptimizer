{
  "nbformat": 4,
  "nbformat_minor": 0,
  "metadata": {
    "colab": {
      "provenance": [],
      "authorship_tag": "ABX9TyP0uiBVk1qS7VQ/IckUxu60",
      "include_colab_link": true
    },
    "kernelspec": {
      "name": "python3",
      "display_name": "Python 3"
    },
    "language_info": {
      "name": "python"
    }
  },
  "cells": [
    {
      "cell_type": "markdown",
      "metadata": {
        "id": "view-in-github",
        "colab_type": "text"
      },
      "source": [
        "<a href=\"https://colab.research.google.com/github/AutoPyloter/PyHarmonyOptimizer/blob/main/PyHarmony.ipynb\" target=\"_parent\"><img src=\"https://colab.research.google.com/assets/colab-badge.svg\" alt=\"Open In Colab\"/></a>"
      ]
    },
    {
      "cell_type": "markdown",
      "source": [
        "# PyHarmonyOptimizer\n",
        "\n",
        "PyHarmonyOptimizer, Python'da yazılmış esnek ve kullanımı kolay bir Harmony Search optimizasyon modülüdür. Bu modül, çeşitli türlerdeki optimizasyon problemlerini çözmek için tasarlanmıştır ve özellikle minimizasyon problemleri üzerine odaklanır.\n",
        "\n",
        "## Harmony Arama Algoritması Nedir?\n",
        "\n",
        "Harmony Search (HS), müzikal süreçlerden esinlenerek geliştirilmiş bir metaheuristik optimizasyon algoritmasıdır. Bu algoritma, bir müzisyen grubunun en uyumlu melodiyi aramasına benzer şekilde çalışır. HS, çözüm adaylarını \"harmoniler\" olarak değerlendirir ve bu harmoniler üzerinde iteratif bir şekilde iyileştirmeler yaparak optimal veya yakın-optimal çözümlere ulaşmaya çalışır.\n",
        "\n",
        "## PyHarmonyOptimizer'ın Özellikleri\n",
        "\n",
        "PyHarmonyOptimizer, aşağıdaki özelliklere sahiptir:\n",
        "\n",
        "- **Çeşitli Değişken Türleri**: Modül, kategorik, sürekli ve kesikli değişkenlerin tanımlanmasına olanak tanır. Bu sayede farklı türdeki optimizasyon problemleri üzerinde çalışabilir.\n",
        "- **Esneklik**: Kullanıcılar, kendi amaç fonksiyonlarını tanımlayabilir ve algoritmanın bu fonksiyonları optimize etmesini sağlayabilir.\n",
        "- **Minimizasyon Yeteneği**: Bu modül, özellikle minimizasyon problemlerini çözmek için tasarlanmıştır.\n",
        "- **HMCR ve PAR Parametreleri**: Harmony Memory Considering Rate (HMCR) ve Pitch Adjustment Rate (PAR) parametreleri sayesinde, algoritmanın arama davranışı üzerinde detaylı kontrol sağlanır.\n",
        "\n",
        "## Kullanımı ve Örnek senaryo\n",
        "\n",
        "PyHarmonyOptimizer'ı kullanmak için öncelikle bir amaç fonksiyonu tanımlayın ve ardından bu fonksiyonu optimizasyon sınıfına ileterek optimizasyon işlemini başlatın. İşte basit bir kullanım örneği:\n",
        "\n",
        "**Silindirik Kutu Üretimi için Optimal Tasarım Seçimi: Bir Fabrika Senaryosu**\n",
        "\n",
        "Bir fabrikada, çeşitli amaçlar için kullanılacak yeni bir silindirik kutu imal edilecektir. Bu kutunun üretim maliyetini minimize etmek ve aynı zamanda belirli gereksinimleri karşılamak üzere, çeşitli tasarım parametreleri üzerinde karar verilmesi gerekmektedir.\n",
        "\n",
        "Silindirik kutunun bazı temel özellikleri şunlardır:\n",
        "\n",
        "- **Yükseklik**: Kutunun yüksekliği, belirli standart ölçüler arasında değişebilir. Bu ölçüler 10, 12, 13 ve 17 cm olarak belirlenmiştir.\n",
        "- **Üst Kapak**: Kutunun üst kısmı, \"açık\" veya \"kapalı\" olabilir. Bu seçim, kutunun kullanım amacına ve istenen özelliklere bağlı olarak değişkenlik gösterir.\n",
        "- **Yan Yüzey Kalınlığı**: Kutunun yan yüzeylerinin kalınlığı 2 mm ile 3 mm arasında değişebilir. Ancak, üstü açık olan kutular için bu kalınlık iki katına çıkarılarak 4 mm ile 6 mm arasında olacaktır. Bu, açık kutuların daha fazla dayanıklılığa ihtiyaç duyması sebebiyledir.\n",
        "- **Çap**: Kutunun çapı, 3, 4, 5 ve 6 cm arasında değişebilir. Bu ölçü, kutunun genel boyutunu ve kapasitesini etkileyecektir.\n",
        "- **Taban ve Üst Kalınlıkları**: Bu iki kısım sabit bir kalınlığa sahip olup, her ikisi de 2 mm kalınlığında tasarlanmıştır.\n",
        "\n",
        "Kutunun maliyetini etkileyen temel faktör, kullanılan metalin maliyetidir. Metalin birim fiyatı cm³ başına 3 dolar olarak belirlenmiştir. Ancak, kutunun su alma hacmi 250 cm³'ün altına düştüğünde, kutunun maliyeti 100 dolar artar. Bu, daha küçük hacimli kutuların üretim sürecinde daha fazla işçilik ve dikkat gerektirmesi nedeniyledir.\n",
        "\n",
        "Fabrika yönetimi, bu parametreler arasındaki en uygun kombinasyonu belirleyerek, maliyeti en aza indirmeyi ve aynı zamanda ürün kalitesini korumayı amaçlamaktadır. Bu amaçla, Harmony Search algoritması kullanılarak, en düşük maliyetli tasarım seçeneği belirlenecektir.\n",
        "\n",
        "---\n",
        "\n",
        "Bu senaryo, fabrikanın karşılaştığı optimizasyon problemine ve bu problemin çözümüne ilişkin bir kontekst sağlar.\n",
        "\n",
        "**Bu senaryonun çözümünde modülün kullanımı**"
      ],
      "metadata": {
        "id": "X-ta3wPvSlSh"
      }
    },
    {
      "cell_type": "code",
      "source": [
        "import random\n",
        "class Continuous:\n",
        "    def __init__(self, min_val, max_val):\n",
        "        self.min_val = min_val\n",
        "        self.max_val = max_val\n",
        "    def sample(self):\n",
        "        return random.uniform(self.min_val, self.max_val)\n",
        "class Discrete:\n",
        "    def __init__(self, values):\n",
        "        self.values = values\n",
        "    def sample(self):\n",
        "        return random.choice(self.values)\n",
        "class Constant:\n",
        "    def __init__(self, value):\n",
        "        self.value = value\n",
        "    def sample(self):\n",
        "        return self.value\n",
        "class Categorical:\n",
        "    def __init__(self, categories):\n",
        "        self.categories = categories\n",
        "    def sample(self):\n",
        "        return random.choice(self.categories)\n",
        "class Minimization:\n",
        "    def __init__(self, design, objective):\n",
        "        self.design = design\n",
        "        self.objective = objective\n",
        "        self.harmony_memory = []\n",
        "    def initialize_harmony_memory(self, size):\n",
        "        for _ in range(size):\n",
        "            harmony = {var: self.design[var].sample() for var in self.design}\n",
        "            self.harmony_memory.append((harmony, self.objective(harmony)))\n",
        "    def generate_new_harmony(self, HMCR, PAR):\n",
        "        new_harmony = {}\n",
        "        for var in self.design:\n",
        "            if random.random() < HMCR:\n",
        "                new_harmony[var] = random.choice([h[0][var] for h in self.harmony_memory])\n",
        "            else:\n",
        "                new_harmony[var] = self.design[var].sample()\n",
        "            if random.random() < PAR:\n",
        "                new_harmony[var] = self.design[var].sample()\n",
        "        return new_harmony\n",
        "    def optimize(self, HMCR, PAR, memory_size, max_iter):\n",
        "        self.initialize_harmony_memory(memory_size)\n",
        "        for _ in range(max_iter):\n",
        "            new_harmony = self.generate_new_harmony(HMCR, PAR)\n",
        "            new_fitness = self.objective(new_harmony)\n",
        "            worst_harmony = max(self.harmony_memory, key=lambda x: x[1])\n",
        "            if worst_harmony[1] > new_fitness:\n",
        "                self.harmony_memory.remove(worst_harmony)\n",
        "                self.harmony_memory.append((new_harmony, new_fitness))\n",
        "        return min(self.harmony_memory, key=lambda x: x[1])\n",
        "class Maximization:\n",
        "    def __init__(self, design, objective):\n",
        "        self.design = design\n",
        "        self.objective = objective\n",
        "        self.harmony_memory = []\n",
        "    def initialize_harmony_memory(self, size):\n",
        "        for _ in range(size):\n",
        "            harmony = {var: self.design[var].sample() for var in self.design}\n",
        "            self.harmony_memory.append((harmony, self.objective(harmony)))\n",
        "    def generate_new_harmony(self, HMCR, PAR):\n",
        "        new_harmony = {}\n",
        "        for var in self.design:\n",
        "            if random.random() < HMCR:\n",
        "                new_harmony[var] = random.choice([h[0][var] for h in self.harmony_memory])\n",
        "            else:\n",
        "                new_harmony[var] = self.design[var].sample()\n",
        "            if random.random() < PAR:\n",
        "                new_harmony[var] = self.design[var].sample()\n",
        "        return new_harmony\n",
        "    def optimize(self, HMCR, PAR, memory_size, max_iter):\n",
        "        self.initialize_harmony_memory(memory_size)\n",
        "        for _ in range(max_iter):\n",
        "            new_harmony = self.generate_new_harmony(HMCR, PAR)\n",
        "            new_fitness = self.objective(new_harmony)\n",
        "            worst_harmony = min(self.harmony_memory, key=lambda x: x[1])\n",
        "            if worst_harmony[1] < new_fitness:\n",
        "                self.harmony_memory.remove(worst_harmony)\n",
        "                self.harmony_memory.append((new_harmony, new_fitness))\n",
        "        return max(self.harmony_memory, key=lambda x: x[1])\n"
      ],
      "metadata": {
        "id": "YKbJ1-i8VncS"
      },
      "execution_count": null,
      "outputs": []
    },
    {
      "cell_type": "code",
      "source": [
        "import math\n",
        "\n",
        "def calculate_volume(D, H):\n",
        "    radius = D / 2\n",
        "    return math.pi * math.pow(radius, 2) * H\n",
        "\n",
        "def calculate_cost(harmony):\n",
        "    H, Top, SideThickness, Diameter, BaseThickness = harmony['H'], harmony['Top'], harmony['SideThickness'], harmony['Diameter'], harmony['BaseThickness']\n",
        "    metal_cost_per_cm3 = 3  # dolar\n",
        "    volume = calculate_volume(Diameter, H)\n",
        "\n",
        "    # İlk olarak tabanın hacmini hesapla\n",
        "    total_metal_volume = math.pi * math.pow(Diameter / 2, 2) * BaseThickness / 10\n",
        "\n",
        "    # Yan yüzey kalınlığını kontrol et\n",
        "    if Top == \"açık\":\n",
        "        SideThickness *= 2\n",
        "    else:\n",
        "        # Üst kapalıysa, üst dairenin hacmini de ekle\n",
        "        total_metal_volume += math.pi * math.pow(Diameter / 2, 2) * BaseThickness / 10\n",
        "\n",
        "    # Yan yüzeyin hacmini ekle\n",
        "    total_metal_volume += math.pi * Diameter * H * SideThickness / 10\n",
        "\n",
        "    # Maliyeti hesapla\n",
        "\n",
        "    cost = total_metal_volume * metal_cost_per_cm3\n",
        "\n",
        "    # Eğer hacim 250 cm³'ten azsa 100 dolar ekle\n",
        "    if volume < 250:\n",
        "        cost += 100\n",
        "\n",
        "    return cost\n",
        "\n",
        "# Tasarım Değişkenleri\n",
        "design = {\n",
        "    'H': Discrete([10, 12, 13, 17]),  #cm\n",
        "    'Top': Categorical([\"açık\", \"kapalı\"]),\n",
        "    'SideThickness': Continuous(2, 3),  # mm\n",
        "    'Diameter': Discrete([3, 4, 5, 6]),  # cm\n",
        "    'BaseThickness': Constant(2)  # Taban ve üst kalınlığı, mm\n",
        "}\n",
        "\n",
        "# Optimizasyon\n",
        "optimizer = Minimization(design, calculate_cost)\n",
        "best_solution = optimizer.optimize(HMCR=0.8, PAR=0.3, memory_size=100, max_iter=1000)\n",
        "print(\"En iyi çözüm:\", best_solution)"
      ],
      "metadata": {
        "colab": {
          "base_uri": "https://localhost:8080/"
        },
        "id": "N4Svh3WTS2gA",
        "outputId": "dda971e6-6cc4-4048-f68c-7bad7a3b1c12"
      },
      "execution_count": null,
      "outputs": [
        {
          "output_type": "stream",
          "name": "stdout",
          "text": [
            "En iyi çözüm: ({'H': 10, 'Top': 'kapalı', 'SideThickness': 2.0006356238099414, 'Diameter': 6, 'BaseThickness': 2}, 147.06247986765396)\n"
          ]
        }
      ]
    },
    {
      "cell_type": "code",
      "source": [],
      "metadata": {
        "id": "D6nR7DtVVoGI"
      },
      "execution_count": null,
      "outputs": []
    }
  ]
}
